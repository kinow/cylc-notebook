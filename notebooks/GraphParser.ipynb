{
 "cells": [
  {
   "cell_type": "markdown",
   "metadata": {},
   "source": [
    "# The Cylc GraphParser\n",
    "\n",
    "The GraphParser is an important class in Cylc. This notebook shows its documentation and a few examples of how it can be used."
   ]
  },
  {
   "cell_type": "code",
   "execution_count": 1,
   "metadata": {},
   "outputs": [
    {
     "name": "stdout",
     "output_type": "stream",
     "text": [
      "Cylc version     : 7.7.1-243-gc7c11\n",
      "GraphParser docs :\n",
      "Class for extracting dependency information from cylc graph strings.\n",
      "\n",
      "    For each task in the graph string, results are stored as:\n",
      "        self.triggers[task_name][expression] = ([expr_task_names], suicide)\n",
      "        self.original[task_name][expression] = original_expression\n",
      "\n",
      "    (original_expression is separated out to allow comparison of triggers\n",
      "    from different equivalent expressions, e.g. family vs member).\n",
      "\n",
      "    This is currently intended to process a single multi-line graph string\n",
      "    (i.e. the content of a single graph section). But it could be extended to\n",
      "    store dependencies for the whole suite (call parse_graph multiple times\n",
      "    and key results by graph section).\n",
      "\n",
      "    The general form of a dependency is \"EXPRESSION => NODE\", where:\n",
      "        * On the right, NODE is a task or family name\n",
      "        * On the left, an EXPRESSION of nodes involving parentheses, and\n",
      "          logical operators '&' (AND), and '|' (OR).\n",
      "        * Node names may be parameterized (any number of parameters):\n",
      "            NODE<i,j,k>\n",
      "            NODE<i=0,j,k>  # specific parameter value\n",
      "            NODE<i-1,j,k>  # offset parameter value\n",
      "        * A parameterized qualified node name looks like this:\n",
      "            NODE(<PARAMS>)([CYCLE-POINT-OFFSET])(:TRIGGER-TYPE)\n",
      "        * The default trigger type is ':succeed'.\n",
      "        * A remote suite qualified node name looks like this:\n",
      "            NODE(<REMOTE-SUITE-TRIGGER>)(:TRIGGER-TYPE)\n",
      "        * Trigger qualifiers are ignored on the right to allow chaining:\n",
      "               \"foo => bar => baz & qux\"\n",
      "          Think of this as describing the graph structure first, then\n",
      "          annotating each node with a trigger type that is only meaningful on\n",
      "          the left side of each pair (in the default ':succeed' case the\n",
      "          trigger type can be ommitted, but it is still there in principle).\n",
      "    \n"
     ]
    }
   ],
   "source": [
    "from cylc.graph_parser import GraphParser\n",
    "from cylc.version import CYLC_VERSION\n",
    "\n",
    "print(\"Cylc version     : {}\".format(CYLC_VERSION))\n",
    "print(\"GraphParser docs :\")\n",
    "print(GraphParser.__doc__)"
   ]
  },
  {
   "cell_type": "code",
   "execution_count": 2,
   "metadata": {},
   "outputs": [
    {
     "name": "stdout",
     "output_type": "stream",
     "text": [
      "{'a': {'': ''}, 'b': {'a:succeed': 'a:succeed'}}\n"
     ]
    }
   ],
   "source": [
    "graph_parser = GraphParser()\n",
    "graph_parser.parse_graph(\"a => b\")\n",
    "print(graph_parser.original)"
   ]
  },
  {
   "cell_type": "markdown",
   "metadata": {},
   "source": [
    "GraphParser stores state. So calling it multiple times may lead to unwanted outputs. The best option is to create a new instance."
   ]
  },
  {
   "cell_type": "code",
   "execution_count": 3,
   "metadata": {},
   "outputs": [
    {
     "name": "stdout",
     "output_type": "stream",
     "text": [
      "{'a': {'': ''}, 'c': {'b:succeed': 'b:succeed'}, 'b': {'(a:succeed|a:fail)': 'a:finish'}}\n"
     ]
    }
   ],
   "source": [
    "graph_parser = GraphParser()\n",
    "graph_parser.parse_graph(\"a:finish => b:succeed => c\")\n",
    "print(graph_parser.original)"
   ]
  },
  {
   "cell_type": "markdown",
   "metadata": {},
   "source": [
    "The graph created by GraphParser is a [Directed acyclic graph](https://en.wikipedia.org/wiki/Directed_acyclic_graph) composed of nodes, e.g. *a, b,* and *c.* The arrows (i.e. *=>*) denote the edges. So there is an edge between *a* and *b*, and another edge between *b* and *c*.\n",
    "\n",
    "The colon mark (i.e. *\\:*) is used to show that there is a special dependency between the two nodes. *a:finish => b* can be read as *&ldquo;a triggers b only when it finishes&rdquo;*.\n",
    "\n",
    "For the current version of Cylc the supported triggers are:"
   ]
  },
  {
   "cell_type": "code",
   "execution_count": 4,
   "metadata": {},
   "outputs": [
    {
     "data": {
      "text/plain": [
       "['fail', 'finish', 'succeed']"
      ]
     },
     "execution_count": 4,
     "metadata": {},
     "output_type": "execute_result"
    }
   ],
   "source": [
    "[getattr(graph_parser, trigger)[1:] for trigger in dir(graph_parser) if trigger.startswith('TRIG')]"
   ]
  },
  {
   "cell_type": "markdown",
   "metadata": {},
   "source": [
    "As you may have noticed from the previous example, *finish* is equivalent to either *succeed* or *fail*. The trigger names can be, however, any value. For the GraphParser, it simply means that you have used some custom value, but it won't fail to parse the graph."
   ]
  },
  {
   "cell_type": "code",
   "execution_count": 5,
   "metadata": {},
   "outputs": [
    {
     "name": "stdout",
     "output_type": "stream",
     "text": [
      "{'a': {'': ''}, 'c': {'b:wakeup': 'b:wakeup'}, 'b': {'a:fire': 'a:fire'}}\n",
      "\n",
      "{'a': {'': ([], False)}, 'c': {'b:wakeup': (['b:wakeup'], False)}, 'b': {'a:fire': (['a:fire'], False)}}\n",
      "\n",
      "('\\nTASK:', 'a')\n",
      "(' ', 'TRIGGER:', '')\n",
      "('  from', '')\n",
      "('\\nTASK:', 'c')\n",
      "(' ', 'TRIGGER:', 'b:wakeup')\n",
      "('    +', 'b:wakeup')\n",
      "('  from', 'b:wakeup')\n",
      "('\\nTASK:', 'b')\n",
      "(' ', 'TRIGGER:', 'a:fire')\n",
      "('    +', 'a:fire')\n",
      "('  from', 'a:fire')\n"
     ]
    }
   ],
   "source": [
    "graph_parser = GraphParser()\n",
    "\n",
    "graph_parser.parse_graph(\"a:fire => b:wakeup => c\")\n",
    "print(graph_parser.original)\n",
    "print(\"\")\n",
    "print(graph_parser.triggers)\n",
    "print(\"\")\n",
    "## TODO: this function is never used in Cylc... and its output is not really useful. We can probably remove it?\n",
    "graph_parser.print_triggers()"
   ]
  },
  {
   "cell_type": "markdown",
   "metadata": {},
   "source": [
    "## Task Families\n",
    "\n",
    "We can group tasks (i.e. nodes) in logical families. This allows us to trigger multiple nodes at once."
   ]
  },
  {
   "cell_type": "code",
   "execution_count": 6,
   "metadata": {},
   "outputs": [
    {
     "name": "stdout",
     "output_type": "stream",
     "text": [
      "{'m1': {'': ''}, 'b1': {'(m1:succeed&m2:succeed)': 'FAM:succeed-all'}, 'b2': {'(m1:succeed&m2:succeed)': 'FAM:succeed-all'}, 'm2': {'': ''}}\n",
      "\n",
      "{'m1': {'': ([], False)}, 'b1': {'(m1:succeed&m2:succeed)': (['m1:succeed', 'm2:succeed'], False)}, 'b2': {'(m1:succeed&m2:succeed)': (['m1:succeed', 'm2:succeed'], False)}, 'm2': {'': ([], False)}}\n"
     ]
    }
   ],
   "source": [
    "fam_map = {'FAM': ['m1', 'm2'], 'BAM': ['b1', 'b2']}\n",
    "\n",
    "graph_parser = GraphParser(fam_map)\n",
    "graph_parser.parse_graph(\"FAM:succeed-all => BAM\")\n",
    "\n",
    "print(graph_parser.original)\n",
    "print(\"\")\n",
    "print(graph_parser.triggers)"
   ]
  },
  {
   "cell_type": "markdown",
   "metadata": {},
   "source": [
    "The task family above, is interpreted by Cylc's GraphPraser, and is can be equally written as:"
   ]
  },
  {
   "cell_type": "code",
   "execution_count": 7,
   "metadata": {},
   "outputs": [
    {
     "name": "stdout",
     "output_type": "stream",
     "text": [
      "{'m1': {'': ''}, 'b1': {'(m1:succeed&m2:succeed)': '(m1:succeed&m2:succeed)'}, 'b2': {'(m1:succeed&m2:succeed)': '(m1:succeed&m2:succeed)'}, 'm2': {'': ''}}\n",
      "\n",
      "{'m1': {'': ([], False)}, 'b1': {'(m1:succeed&m2:succeed)': (['m1:succeed', 'm2:succeed'], False)}, 'b2': {'(m1:succeed&m2:succeed)': (['m1:succeed', 'm2:succeed'], False)}, 'm2': {'': ([], False)}}\n"
     ]
    }
   ],
   "source": [
    "graph_parser = GraphParser()\n",
    "graph_parser.parse_graph(\"\"\"\n",
    "    (m1 & m2) => b1\n",
    "    (m1 & m2) => b2\n",
    "\"\"\")\n",
    "\n",
    "print(graph_parser.original)\n",
    "print(\"\")\n",
    "print(graph_parser.triggers)"
   ]
  },
  {
   "cell_type": "markdown",
   "metadata": {},
   "source": [
    "In the example above, the structure created for the graph is different, but the resulting triggers are the same. So the graph would be evaluated in the same manner by Cylc, but without families.\n",
    "\n",
    "There are special modifiers for the triggers, that can be used only for families:"
   ]
  },
  {
   "cell_type": "code",
   "execution_count": 8,
   "metadata": {},
   "outputs": [
    {
     "data": {
      "text/plain": [
       "['all', 'any']"
      ]
     },
     "execution_count": 8,
     "metadata": {},
     "output_type": "execute_result"
    }
   ],
   "source": [
    "[getattr(graph_parser, trigger)[1:] for trigger in dir(graph_parser) if trigger.startswith('FAM_TRIG_EXT')]"
   ]
  },
  {
   "cell_type": "markdown",
   "metadata": {},
   "source": [
    "So you can use any of the triggers displayed previously with these modifiers, as long as you are referring to a family."
   ]
  },
  {
   "cell_type": "code",
   "execution_count": 9,
   "metadata": {},
   "outputs": [
    {
     "name": "stdout",
     "output_type": "stream",
     "text": [
      "fail-all\n",
      "fail-any\n",
      "finish-all\n",
      "finish-any\n",
      "succeed-all\n",
      "succeed-any\n"
     ]
    }
   ],
   "source": [
    "triggers  = [getattr(graph_parser, trigger)[1:] for trigger in dir(graph_parser) if trigger.startswith('TRIG')]\n",
    "modifiers = [getattr(graph_parser, trigger)[1:] for trigger in dir(graph_parser) if trigger.startswith('FAM_TRIG_EXT')]\n",
    "\n",
    "for trigger in triggers:\n",
    "    for modifier in modifiers:\n",
    "        print(\"{}-{}\".format(trigger, modifier))"
   ]
  },
  {
   "cell_type": "markdown",
   "metadata": {},
   "source": [
    "## Parameterized graphs\n",
    "\n",
    "Graphs in Cylc also support parameters."
   ]
  },
  {
   "cell_type": "code",
   "execution_count": 10,
   "metadata": {
    "scrolled": true
   },
   "outputs": [
    {
     "name": "stdout",
     "output_type": "stream",
     "text": [
      "{'a': {'': ''}, 'b_tokyo': {'a:succeed': 'a:succeed'}}\n"
     ]
    }
   ],
   "source": [
    "graph_parser = GraphParser(None, ({'city': ['tokyo']}, {'city': '_%(city)s'}))\n",
    "graph_parser.parse_graph(\"a => b<city>\")\n",
    "# Note there is no b, but b_tokyo instead\n",
    "print(graph_parser.original)"
   ]
  }
 ],
 "metadata": {
  "kernelspec": {
   "display_name": "Python 2",
   "language": "python",
   "name": "python2"
  },
  "language_info": {
   "codemirror_mode": {
    "name": "ipython",
    "version": 2
   },
   "file_extension": ".py",
   "mimetype": "text/x-python",
   "name": "python",
   "nbconvert_exporter": "python",
   "pygments_lexer": "ipython2",
   "version": "2.7.15rc1"
  }
 },
 "nbformat": 4,
 "nbformat_minor": 2
}
