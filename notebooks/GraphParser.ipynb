{
 "cells": [
  {
   "cell_type": "markdown",
   "metadata": {},
   "source": [
    "# The Cylc GraphParser\n",
    "\n",
    "This is about the GraphParser"
   ]
  },
  {
   "cell_type": "code",
   "execution_count": 1,
   "metadata": {},
   "outputs": [
    {
     "name": "stdout",
     "output_type": "stream",
     "text": [
      "{'a': {'': ''}, 'b': {'a:succeed': 'a:succeed'}}\n"
     ]
    }
   ],
   "source": [
    "from cylc.graph_parser import GraphParser\n",
    "\n",
    "graph_parser = GraphParser()\n",
    "graph_parser.parse_graph(\"a => b\")\n",
    "print(graph_parser.original)"
   ]
  },
  {
   "cell_type": "markdown",
   "metadata": {},
   "source": [
    "## Parameterized graphs\n",
    "\n",
    "Graphs in Cylc also support parameters."
   ]
  },
  {
   "cell_type": "code",
   "execution_count": 2,
   "metadata": {},
   "outputs": [
    {
     "name": "stdout",
     "output_type": "stream",
     "text": [
      "{'a': {'': ''}, 'b_tokyo': {'a:succeed': 'a:succeed'}}\n"
     ]
    }
   ],
   "source": [
    "from cylc.graph_parser import GraphParser\n",
    "\n",
    "graph_parser = GraphParser(None, ({'city': ['tokyo']}, {'city': '_%(city)s'}))\n",
    "graph_parser.parse_graph(\"a => b<city>\")\n",
    "# Note there is no b, but b_tokyo instead\n",
    "print(graph_parser.original)"
   ]
  },
  {
   "cell_type": "code",
   "execution_count": null,
   "metadata": {},
   "outputs": [],
   "source": []
  }
 ],
 "metadata": {
  "kernelspec": {
   "display_name": "Python 2",
   "language": "python",
   "name": "python2"
  },
  "language_info": {
   "codemirror_mode": {
    "name": "ipython",
    "version": 2
   },
   "file_extension": ".py",
   "mimetype": "text/x-python",
   "name": "python",
   "nbconvert_exporter": "python",
   "pygments_lexer": "ipython2",
   "version": "2.7.15rc1"
  }
 },
 "nbformat": 4,
 "nbformat_minor": 2
}
