{
 "cells": [
  {
   "cell_type": "markdown",
   "metadata": {},
   "source": [
    "# Introduction\n",
    "\n",
    "[Cylc](https://cylc.github.io/cylc/) is a workflow engine, written in Python, and used by [NIWA](https://niwa.co.nz), [MetOffice](http://www.metoffice.gov.uk/) and others. It handles continuous workflows of cycling tasks. We will learn more about cylc, how it can be used, its features and more on this notebook.\n",
    "\n",
    "## Installation\n",
    "\n",
    "The cylc software can be obtained from [GitHub](https://github.com/cylc/). The [installation instructions](https://github.com/cylc/cylc/blob/master/INSTALL.md) are easy to follow and should work on most Linux distributions. \n",
    "\n",
    "You will need a computer with Linux and Python 2.x, where you can also install other software and libraries such as Jinja2 and graphviz.\n",
    "\n",
    "There is also a [section in the FAQ](https://cylc.github.io/cylc/faq.html#how-do-i-install-cylc) that covers how to install cylc.\n",
    "\n",
    "You can check the cylc installation by running the following command."
   ]
  },
  {
   "cell_type": "code",
   "execution_count": null,
   "metadata": {
    "collapsed": false
   },
   "outputs": [],
   "source": [
    "!cylc check-software"
   ]
  },
  {
   "cell_type": "markdown",
   "metadata": {},
   "source": [
    "It is recommended that you fix any warnings before proceeding with the rest of this notebook."
   ]
  },
  {
   "cell_type": "markdown",
   "metadata": {},
   "source": [
    "## A Cycling Workflow Example\n",
    "\n",
    "The following example is intended to convey something of cylc’s basic functionality. However, it barely scratches the surface; to understand more, read the [User Guide](https://cylc.github.io/cylc/documentation.html#the-cylc-user-guide).\n",
    "\n",
    "We will register a suite in cylc, called my.suite. But before registering the suite, we will trigger the command to unregister any suite with the same name. That way you can also run this notebook multiple times with no error."
   ]
  },
  {
   "cell_type": "code",
   "execution_count": null,
   "metadata": {
    "collapsed": false
   },
   "outputs": [],
   "source": [
    "!cylc unregister my.suite"
   ]
  },
  {
   "cell_type": "markdown",
   "metadata": {},
   "source": [
    "As you may have noticed, the command says how many test suites were unregistered. Now we can register the suite."
   ]
  },
  {
   "cell_type": "code",
   "execution_count": null,
   "metadata": {
    "collapsed": false
   },
   "outputs": [],
   "source": [
    "!cylc register my.suite $PWD/../data/cycling-workflow-example-suite/"
   ]
  },
  {
   "cell_type": "markdown",
   "metadata": {
    "collapsed": true
   },
   "source": [
    "Again, the command will give clear indication of whether the suite was successfully registered or not, and will also indicate the location of the new suite. Let's print some information about our suite."
   ]
  },
  {
   "cell_type": "code",
   "execution_count": null,
   "metadata": {
    "collapsed": false
   },
   "outputs": [],
   "source": [
    "!cylc db print my.suite"
   ]
  },
  {
   "cell_type": "markdown",
   "metadata": {},
   "source": [
    "You can edit the suite with the command `cylc edit my.suite`."
   ]
  },
  {
   "cell_type": "markdown",
   "metadata": {},
   "source": [
    "Before running the suite, let's check if it is valid, and take a look at a grap of our suite."
   ]
  },
  {
   "cell_type": "code",
   "execution_count": null,
   "metadata": {
    "collapsed": false
   },
   "outputs": [],
   "source": [
    "!cylc validate my.suite"
   ]
  },
  {
   "cell_type": "markdown",
   "metadata": {},
   "source": [
    "And we can also visualize our suite as a graph."
   ]
  },
  {
   "cell_type": "code",
   "execution_count": null,
   "metadata": {
    "collapsed": false
   },
   "outputs": [],
   "source": [
    "# remove any existing image\n",
    "!rm -f mysuite.png\n",
    "# plot suite\n",
    "!cylc graph my.suite --output-file mysuite.png\n",
    "# embed into the notebook\n",
    "from IPython.display import Image\n",
    "Image(filename='mysuite.png')"
   ]
  },
  {
   "cell_type": "markdown",
   "metadata": {
    "collapsed": true
   },
   "source": [
    "Finally, to run the suite, we can submit it from the command line with the following command."
   ]
  },
  {
   "cell_type": "code",
   "execution_count": null,
   "metadata": {
    "collapsed": false
   },
   "outputs": [],
   "source": [
    "!cylc run my.suite"
   ]
  },
  {
   "cell_type": "markdown",
   "metadata": {},
   "source": [
    "And to get the job output, it is just a matter of running one more command."
   ]
  },
  {
   "cell_type": "code",
   "execution_count": null,
   "metadata": {
    "collapsed": false
   },
   "outputs": [],
   "source": [
    "!cylc log -o my.suite model.2021"
   ]
  },
  {
   "cell_type": "markdown",
   "metadata": {},
   "source": [
    "You can also run the suite using a GUI with `gcylc my.suite`"
   ]
  },
  {
   "cell_type": "markdown",
   "metadata": {},
   "source": [
    "That's it. This was a short introduction to cylc, with a simple working example. For more, please go to the [cylc website](https://cylc.github.io/cylc/), or check the [User Guide](https://cylc.github.io/cylc/documentation.html#the-cylc-user-guide).\n",
    "\n",
    "Happy cycling!"
   ]
  }
 ],
 "metadata": {
  "kernelspec": {
   "display_name": "Python 2",
   "language": "python",
   "name": "python2"
  },
  "language_info": {
   "codemirror_mode": {
    "name": "ipython",
    "version": 2
   },
   "file_extension": ".py",
   "mimetype": "text/x-python",
   "name": "python",
   "nbconvert_exporter": "python",
   "pygments_lexer": "ipython2",
   "version": "2.7.12"
  }
 },
 "nbformat": 4,
 "nbformat_minor": 0
}
